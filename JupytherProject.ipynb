{
  "metadata": {
    "kernelspec": {
      "name": "python",
      "display_name": "Python (Pyodide)",
      "language": "python"
    },
    "language_info": {
      "codemirror_mode": {
        "name": "python",
        "version": 3
      },
      "file_extension": ".py",
      "mimetype": "text/x-python",
      "name": "python",
      "nbconvert_exporter": "python",
      "pygments_lexer": "ipython3",
      "version": "3.8"
    }
  },
  "nbformat_minor": 5,
  "nbformat": 4,
  "cells": [
    {
      "id": "3d5bbafe-ae32-4e5f-baed-16b2ffd7cd24",
      "cell_type": "markdown",
      "source": "# H1: Data Science Tools and Ecosystem\nAdd intro line: In this notebook, Data Science Tools and Ecosystem are summarized.\t\n\nPython\nR\nSQL\n\nggplot\npycharm\npandas\n",
      "metadata": {}
    },
    {
      "id": "a003f99e-8448-46e2-83e5-f6f2a589cdc5",
      "cell_type": "markdown",
      "source": "| Data Science Tools     |\n|------------------------|\n| Jupyter Notebook       |\n| RStudio                |\n| Apache Zeppelin        |",
      "metadata": {}
    },
    {
      "id": "877a63b8-09f7-47a2-8008-b4be71f26e3e",
      "cell_type": "markdown",
      "source": "### Below are a few examples of evaluating arithmetic expressions in Python.\n2+2\n4*4+(3+4)\n",
      "metadata": {}
    },
    {
      "id": "2379b3be-89ca-48ac-881b-a328efde48e3",
      "cell_type": "code",
      "source": "# This is a simple arithmetic expression to multiply then add integers\n(3 * 4) + 5",
      "metadata": {
        "trusted": true
      },
      "outputs": [
        {
          "execution_count": 1,
          "output_type": "execute_result",
          "data": {
            "text/plain": "17"
          },
          "metadata": {}
        }
      ],
      "execution_count": 1
    },
    {
      "id": "fc116302-79e8-47b6-8645-5902333195ae",
      "cell_type": "code",
      "source": "# This will convert 200 minutes to hours by dividing by 60\n200/60",
      "metadata": {
        "trusted": true
      },
      "outputs": [
        {
          "execution_count": 2,
          "output_type": "execute_result",
          "data": {
            "text/plain": "3.3333333333333335"
          },
          "metadata": {}
        }
      ],
      "execution_count": 2
    },
    {
      "id": "bf93b818-eb52-4743-923b-2db91ee3e2d5",
      "cell_type": "markdown",
      "source": "**Objectives:**\n\n- List popular languages for Data Science  \n- Identify commonly used libraries in Data Science  \n- Create tables using markdown  \n- Perform basic arithmetic operations in Python  \n- Upload a Jupyter Notebook to GitHub  ",
      "metadata": {}
    },
    {
      "id": "bbfd3a35-dd0d-4f21-8fd5-bd845f8daa32",
      "cell_type": "markdown",
      "source": "## Author\n\nMichał Krzewinski",
      "metadata": {}
    },
    {
      "id": "1346af46-ec27-4494-afb9-9f0e5995ef79",
      "cell_type": "code",
      "source": "",
      "metadata": {
        "trusted": true
      },
      "outputs": [],
      "execution_count": null
    }
  ]
}